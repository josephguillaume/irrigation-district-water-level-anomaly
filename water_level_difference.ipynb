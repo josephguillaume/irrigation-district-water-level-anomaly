{
 "cells": [
  {
   "cell_type": "markdown",
   "metadata": {},
   "source": [
    "## Importing packages"
   ]
  },
  {
   "cell_type": "code",
   "execution_count": null,
   "metadata": {},
   "outputs": [],
   "source": [
    "import os\n",
    "import pandas as pd\n",
    "import matplotlib.pyplot as plt\n",
    "from pathlib import Path"
   ]
  },
  {
   "cell_type": "markdown",
   "metadata": {},
   "source": [
    "## Reading files for each site"
   ]
  },
  {
   "cell_type": "code",
   "execution_count": null,
   "metadata": {},
   "outputs": [],
   "source": [
    "## change working directory to assess files\n",
    "data_path = ''\n",
    "os.chdir(data_path)\n",
    "cwd = os.getcwd()\n",
    "print('Current Working Directory:{}',format(cwd))\n"
   ]
  },
  {
   "cell_type": "markdown",
   "metadata": {},
   "source": [
    "## Loading CSV"
   ]
  },
  {
   "cell_type": "markdown",
   "metadata": {},
   "source": [
    "### Upstream water level"
   ]
  },
  {
   "cell_type": "code",
   "execution_count": null,
   "metadata": {},
   "outputs": [],
   "source": [
    "# 1) describe each file in one place as tuples\n",
    "SPEC = [\n",
    "    # name        file                        date_fmt              value_col\n",
    "    # (\"USL_a\",  \"USL_VAL.csv\",      \"%d/%m/%Y %H:%M\",     \"Event Value\"),\n",
    "]\n",
    "\n",
    "# 2) one small loader that returns a Series indexed by datetime\n",
    "def load_series(path, date_fmt, value_col, date_col=\"Date/time\", skiprows=2):\n",
    "    df = pd.read_csv(path, skiprows=skiprows)\n",
    "    idx = pd.to_datetime(df[date_col], format=date_fmt, dayfirst=True, errors=\"raise\")\n",
    "    s = pd.Series(df[value_col].to_numpy(), index=idx, name=Path(path).stem).sort_index()\n",
    "    return s\n",
    "\n",
    "# 3) load everything into a dict in one line\n",
    "ser = {name: load_series(f, fmt, vcol) for name, f, fmt, vcol in SPEC}\n",
    "\n",
    "# 4) post-processing, e.g. apply site elevation offsets \n",
    "\n",
    "# 5) plot only the upstream water levels (like your original figure)\n",
    "plt.figure(figsize=(10, 6))\n",
    "for name in [\"USL_a\"]:\n",
    "    plt.plot(ser[name].index, ser[name].values, marker=\"o\", markersize=1, label=name)\n",
    "\n",
    "plt.title(\"Upstream water level\")\n",
    "plt.xlabel(\"Date/Time\")\n",
    "plt.ylabel(\"Value\")\n",
    "plt.legend()\n",
    "plt.grid(True)\n",
    "plt.show()"
   ]
  },
  {
   "cell_type": "markdown",
   "metadata": {},
   "source": [
    "### Flow Comparison"
   ]
  },
  {
   "cell_type": "code",
   "execution_count": null,
   "metadata": {},
   "outputs": [],
   "source": [
    "def plot_group(ser_dict, key_prefix=\"FLOW_\", title=\"Flow comparison\", resample=None, smooth=None):\n",
    "    \"\"\"\n",
    "    ser_dict: dict[str, pd.Series] (datetime index)\n",
    "    key_prefix: only plot series whose name starts with this\n",
    "    resample: e.g. 'H' or 'D' to resample (mean)\n",
    "    smooth: rolling window size (e.g. 5) for simple smoothing\n",
    "    \"\"\"\n",
    "    plt.figure(figsize=(10, 6))\n",
    "\n",
    "    keys = [k for k in ser_dict if k.startswith(key_prefix)]\n",
    "    for k in sorted(keys):\n",
    "        s = ser_dict[k]\n",
    "        if resample:\n",
    "            s = s.resample(resample).mean()\n",
    "        if smooth:\n",
    "            s = s.rolling(smooth, min_periods=1).mean()\n",
    "        plt.plot(s.index, s.values, marker='o', markersize=1, label=k)\n",
    "\n",
    "    plt.title(title)\n",
    "    plt.xlabel(\"Date/Time\")\n",
    "    plt.ylabel(\"Value\")\n",
    "    plt.legend()\n",
    "    plt.grid(True)\n",
    "    plt.show()\n",
    "\n",
    "# use it:\n",
    "plot_group(ser, key_prefix=\"FLOW_\", title=\"Flow comparison\")"
   ]
  },
  {
   "cell_type": "markdown",
   "metadata": {},
   "source": [
    "### Downstream water level"
   ]
  },
  {
   "cell_type": "code",
   "execution_count": null,
   "metadata": {},
   "outputs": [],
   "source": [
    "def plot_selected(ser_dict, names, title, resample=None, smooth=None, ylabel=\"Value\"):\n",
    "    \"\"\"\n",
    "    names: list of keys to plot from ser_dict (order preserved)\n",
    "    resample: e.g. 'H' or 'D' (mean)\n",
    "    smooth: rolling window (int) for simple smoothing\n",
    "    \"\"\"\n",
    "    plt.figure(figsize=(10, 6))\n",
    "    for k in names:\n",
    "        s = ser_dict[k]\n",
    "        if resample:\n",
    "            s = s.resample(resample).mean()\n",
    "        if smooth:\n",
    "            s = s.rolling(smooth, min_periods=1).mean()\n",
    "        plt.plot(s.index, s.values, marker=\"o\", markersize=1, label=k)\n",
    "    plt.title(title)\n",
    "    plt.xlabel(\"Date/Time\")\n",
    "    plt.ylabel(ylabel)\n",
    "    plt.legend()\n",
    "    plt.grid(True)\n",
    "    plt.show()\n",
    "\n",
    "# your figure:\n",
    "plot_selected(ser, [\"DSL_a\"], title=\"Downstream water level\")"
   ]
  },
  {
   "cell_type": "markdown",
   "metadata": {},
   "source": [
    "## Zoomed"
   ]
  },
  {
   "cell_type": "code",
   "execution_count": null,
   "metadata": {},
   "outputs": [],
   "source": [
    "def plot_zoom(ser_dict, names, title, start=None, end=None, ylabel=\"Value\"):\n",
    "    plt.figure(figsize=(10, 6))\n",
    "    for k in names:\n",
    "        s = ser_dict[k]\n",
    "        if start or end:\n",
    "            s = s.loc[start:end]\n",
    "        plt.plot(s.index, s.values, marker=\"o\", markersize=1, label=k)\n",
    "    plt.title(title)\n",
    "    plt.xlabel(\"Date/Time\")\n",
    "    plt.ylabel(ylabel)\n",
    "    plt.legend()\n",
    "    plt.grid(True)\n",
    "    plt.show()\n",
    "\n",
    "# your zoomed plot:\n",
    "plot_zoom(\n",
    "    ser,\n",
    "    [\"USL_a\"],\n",
    "    title=\"Upstream water level\",\n",
    "    start=\"2023-12-10\",\n",
    "    end=\"2024-01-25\"\n",
    ")\n"
   ]
  },
  {
   "cell_type": "code",
   "execution_count": null,
   "metadata": {},
   "outputs": [],
   "source": [
    "# zoomed flow comparison\n",
    "plot_zoom(\n",
    "    ser,\n",
    "    [\"FLOW_a\"],\n",
    "    title=\"Flow comparison\",\n",
    "    start=\"2023-12-10\",\n",
    "    end=\"2024-01-25\"\n",
    ")\n"
   ]
  },
  {
   "cell_type": "code",
   "execution_count": null,
   "metadata": {},
   "outputs": [],
   "source": [
    "# zoomed downstream comparison\n",
    "plot_zoom(\n",
    "    ser,\n",
    "    [\"DSL_a\"],\n",
    "    title=\"Downstream water level\",\n",
    "    start=\"2023-12-10\",\n",
    "    end=\"2024-01-25\"\n",
    ")"
   ]
  },
  {
   "cell_type": "markdown",
   "metadata": {},
   "source": [
    "## Linear Interpolation"
   ]
  },
  {
   "cell_type": "code",
   "execution_count": 57,
   "metadata": {},
   "outputs": [],
   "source": [
    "def resample_interp(df, value_col=\"Event Value\", rule=\"1T\", method=\"linear\"):\n",
    "    \"\"\"\n",
    "    Resample to a regular grid (e.g. 1-minute) and linearly interpolate.\n",
    "    Returns a DataFrame with the same columns on the new index.\n",
    "    \"\"\"\n",
    "    out = df.resample(rule).mean()\n",
    "    return out.interpolate(method=method)\n",
    "\n",
    "def plot_series(named_series, title, ylabel=\"Value\"):\n",
    "    \"\"\"\n",
    "    Plot multiple series that already share a datetime index.\n",
    "    named_series: list of (label, series)\n",
    "    \"\"\"\n",
    "    plt.figure(figsize=(10, 6))\n",
    "    for label, s in named_series:\n",
    "        plt.plot(s.index, s.values, marker=\"o\", markersize=1, label=label)\n",
    "    plt.title(title)\n",
    "    plt.xlabel(\"Date/Time\")\n",
    "    plt.ylabel(ylabel)\n",
    "    plt.legend()\n",
    "    plt.grid(True)\n",
    "    plt.show()\n",
    "\n",
    "def zoom(s, start=None, end=None):\n",
    "    \"\"\"Slice a Series (or DataFrame) by date range if provided.\"\"\"\n",
    "    if start or end:\n",
    "        return s.loc[start:end]\n",
    "    return s"
   ]
  },
  {
   "cell_type": "code",
   "execution_count": null,
   "metadata": {},
   "outputs": [],
   "source": [
    "# resample + interpolate upstream series ---------------------\n",
    "# NOTE: apply any offsets BEFORE interpolation\n",
    "\n",
    "usl_a = resample_interp(ser[\"USL_a\"].to_frame(\"Value\"), value_col=\"Value\", rule=\"1T\")[\"Value\"]\n",
    "usl_b = resample_interp(ser[\"USL_b\"].to_frame(\"Event Value\"), value_col=\"Event Value\", rule=\"1T\")[\"Event Value\"]\n",
    "\n",
    "# quick plot of the interpolated upstream series ------------------------\n",
    "plot_series(\n",
    "    [\n",
    "        (\"USL_b\", usl_b),\n",
    "        (\"USL_a\", usl_a),\n",
    "    ],\n",
    "    title=\"Upstream water level (interpolated)\"\n",
    ")"
   ]
  },
  {
   "cell_type": "code",
   "execution_count": null,
   "metadata": {},
   "outputs": [],
   "source": [
    "# zoomed view (drop-in replacement for your start/end blocks) -----------\n",
    "start_date = \"2023-12-10\"\n",
    "end_date   = \"2024-01-25\"\n",
    "\n",
    "plot_series(\n",
    "    [\n",
    "        (\"USL_a\", zoom(usl_a, start_date, end_date)),\n",
    "        (\"USL_b\", zoom(usl_b,   start_date, end_date)),\n",
    "    ],\n",
    "    title=\"Upstream water level (zoomed, interpolated)\"\n",
    ")"
   ]
  },
  {
   "cell_type": "code",
   "execution_count": null,
   "metadata": {},
   "outputs": [],
   "source": [
    "# --- 3) compute and plot the difference (R7 minus 2007) -----------------------\n",
    "# Since both are on the same 1-minute grid, just subtract.\n",
    "diff_b_minus_a = usl_b - usl_a\n",
    "plot_series(\n",
    "    [(\"difference (b - a)\", zoom(diff_b_minus_a, start_date, end_date))],\n",
    "    title=\"Water level difference between regulator and outlet (zoomed)\"\n",
    ")"
   ]
  },
  {
   "cell_type": "code",
   "execution_count": null,
   "metadata": {},
   "outputs": [],
   "source": [
    "# another zoom window example (March 2023) ------------------------------\n",
    "start_date2 = \"2023-03-01 00:00:00\"\n",
    "end_date2   = \"2023-03-24 00:00:00\"\n",
    "\n",
    "plot_series(\n",
    "    [(\"difference (b - a)\", zoom(diff_b_minus_a, start_date2, end_date2))],\n",
    "    title=\"Water level difference between regulator and outlet (Mar, 2023)\"\n",
    ")"
   ]
  },
  {
   "cell_type": "markdown",
   "metadata": {},
   "source": [
    "## Sensor reading alarms"
   ]
  },
  {
   "cell_type": "markdown",
   "metadata": {},
   "source": [
    "### Visualizing alarms"
   ]
  },
  {
   "cell_type": "code",
   "execution_count": null,
   "metadata": {},
   "outputs": [],
   "source": [
    "# --- ensure we have the difference series -------------------------------------\n",
    "# If you already have merged_df['difference'], use it; otherwise compute from ser dict.\n",
    "try:\n",
    "    diff = merged_df[\"difference\"]\n",
    "except NameError:\n",
    "    # build from your interpolated series (assumes you ran the interpolation cell)\n",
    "    # usl_a, usl_b should exist; if not, compute them as you did earlier.\n",
    "    diff = (usl_b - usl_a).dropna()\n",
    "    merged_df = pd.DataFrame({\"difference\": diff})\n",
    "\n",
    "# Optional zoom window\n",
    "start, end = None, None  # e.g. \"2023-12-10\", \"2024-01-25\"\n",
    "if start or end:\n",
    "    diff = diff.loc[start:end]\n",
    "\n",
    "# --- Step 3: thresholds --------------------------------------------------------\n",
    "thresholds = [-0.02, -0.03, -0.04, -0.05, -0.06]  # least to most severe\n",
    "\n",
    "# --- Step 4–6: sample-level alarms & counts -----------------------------------\n",
    "alarms = {t: diff[diff <= t] for t in thresholds}              # times where diff <= t\n",
    "alarm_counts = {t: int(alarms[t].shape[0]) for t in thresholds}  # sample counts\n",
    "\n",
    "# --- Step 7: plot difference + alarm markers at each threshold ----------------\n",
    "plt.figure(figsize=(14, 7))\n",
    "plt.plot(diff.index, diff.values, label=\"Difference\", linestyle=\"--\")\n",
    "\n",
    "for t in thresholds:\n",
    "    # threshold line\n",
    "    plt.axhline(t, linestyle=\"--\", alpha=0.3)\n",
    "    # scatter markers at the times alarms occur (y fixed at the threshold for clarity)\n",
    "    alarm_times = alarms[t].index\n",
    "    plt.scatter(alarm_times, [t]*len(alarm_times), s=12, label=f\"alarm ≤ {t}\")\n",
    "\n",
    "plt.xlabel(\"Date\")\n",
    "plt.ylabel(\"Difference (b - a)\")\n",
    "plt.title(\"Water level difference and alarms\")\n",
    "plt.legend(ncol=2)\n",
    "plt.grid(True)\n",
    "plt.show()\n",
    "\n",
    "print(\"Sample alarm counts (diff ≤ threshold):\")\n",
    "for t in thresholds:\n",
    "    print(f\"  {t}: {alarm_counts[t]} samples\")"
   ]
  },
  {
   "cell_type": "markdown",
   "metadata": {},
   "source": [
    "### Zoomed"
   ]
  },
  {
   "cell_type": "code",
   "execution_count": null,
   "metadata": {},
   "outputs": [],
   "source": [
    "# plot alarms with zoom option -------------------------------------\n",
    "def plot_alarms(diff_df, thresholds, start=None, end=None, title=\"Alarms\"):\n",
    "    \"\"\"\n",
    "    diff_df : DataFrame with a 'difference' column indexed by datetime\n",
    "    thresholds : list of thresholds to check\n",
    "    start, end : optional date strings to zoom\n",
    "    \"\"\"\n",
    "    # zoom if requested\n",
    "    data = diff_df.loc[start:end] if (start or end) else diff_df\n",
    "    \n",
    "    # collect alarms\n",
    "    alarms = {t: data[data[\"difference\"] <= t] for t in thresholds}\n",
    "    alarm_counts = {t: len(df) for t, df in alarms.items()}\n",
    "    \n",
    "    # plot\n",
    "    plt.figure(figsize=(14, 7))\n",
    "    plt.plot(data.index, data[\"difference\"], label=\"Difference\", linestyle=\"--\")\n",
    "    \n",
    "    for t in thresholds:\n",
    "        times = alarms[t].index\n",
    "        plt.axhline(t, linestyle=\"--\", alpha=0.3)  # optional threshold line\n",
    "        plt.scatter(times, [t]*len(times), s=12, label=f\"≤ {t}\")\n",
    "    \n",
    "    plt.xlabel(\"Date\")\n",
    "    plt.ylabel(\"Difference (R7 - 2007)\")\n",
    "    plt.title(title)\n",
    "    plt.legend(ncol=2)\n",
    "    plt.grid(True)\n",
    "    plt.show()\n",
    "    \n",
    "    # print counts\n",
    "    print(\"Alarm counts (samples ≤ threshold):\")\n",
    "    for t, c in alarm_counts.items():\n",
    "        print(f\"  {t}: {c} samples\")\n",
    "\n",
    "# --- use it for your zoom window ---\n",
    "plot_alarms(\n",
    "    merged_df,\n",
    "    thresholds=[-0.02, -0.03, -0.04, -0.05, -0.06],\n",
    "    start=\"2024-01-22\", end=\"2024-01-24\",\n",
    "    title=\"Sensor Readings and Alarms: Y4R7 (Zoomed)\"\n",
    ")\n"
   ]
  },
  {
   "cell_type": "markdown",
   "metadata": {},
   "source": [
    "### Setting thresholds"
   ]
  },
  {
   "cell_type": "code",
   "execution_count": null,
   "metadata": {},
   "outputs": [],
   "source": [
    "# --- Load the merged DataFrame (if not already done) --------------------------\n",
    "# --- Config -------------------------------------------------------------------\n",
    "thresholds = [-0.05, -0.04, -0.03, -0.02, 0.02, 0.03, 0.04, 0.05]  # both sides\n",
    "start_date = \"2023-01-31\"   # or None\n",
    "end_date   = \"2024-01-24\"   # or None\n",
    "inclusive  = True           # True => use <= / >= ; False => use < / >\n",
    "\n",
    "# Prepare the windowed data --------------------------------------------\n",
    "data = merged_df.loc[start_date:end_date] if (start_date or end_date) else merged_df\n",
    "diff = data[\"difference\"]\n",
    "\n",
    "# Build alarms per threshold (both sides) -------------------------------\n",
    "def pick_hits(series: pd.Series, thr: float, inclusive: bool = True) -> pd.Series:\n",
    "    if thr < 0:\n",
    "        return series[series <= thr] if inclusive else series[series < thr]\n",
    "    else:\n",
    "        return series[series >= thr] if inclusive else series[series > thr]\n",
    "\n",
    "alarms = {t: pick_hits(diff, t, inclusive=inclusive) for t in thresholds}\n",
    "alarm_counts = {t: int(s.shape[0]) for t, s in alarms.items()}\n",
    "\n",
    "# Plot the difference + threshold lines + alarm markers -----------------\n",
    "plt.figure(figsize=(14, 8))\n",
    "plt.plot(diff.index, diff.values, label=\"Difference\", linestyle=\"--\")\n",
    "\n",
    "for t, s in alarms.items():\n",
    "    # threshold reference line\n",
    "    plt.axhline(t, linestyle=\"--\", alpha=0.3)\n",
    "    # scatter actual difference values where alarm triggers\n",
    "    if not s.empty:\n",
    "        marker = \"x\" if t < 0 else \"o\"\n",
    "        plt.scatter(s.index, s.values, label=f\"{'≤' if t<0 else '≥'} {t:+.2f}\", s=14, marker=marker)\n",
    "\n",
    "plt.axhline(0.0, linestyle=\"--\", alpha=0.25)\n",
    "plt.xlabel(\"Date\")\n",
    "plt.ylabel(\"Difference (b - a)\")\n",
    "plt.title(\"Water Level Sensor Differences and Alarms\")\n",
    "plt.legend(ncol=2)\n",
    "plt.grid(True)\n",
    "plt.show()\n",
    "\n",
    "# Print counts ----------------------------------------------------------\n",
    "print(\"Alarm counts (samples meeting each threshold):\")\n",
    "for t in thresholds:\n",
    "    print(f\"  {t:+.2f}: {alarm_counts[t]}\")\n",
    "\n",
    "# --- 5) Save alarms to CSV safely --------------------------------------------\n",
    "rows = []\n",
    "for t, s in alarms.items():\n",
    "    if not s.empty:\n",
    "        rows.append(\n",
    "            pd.DataFrame({\n",
    "                \"timestamp\": s.index,\n",
    "                \"difference\": s.values,\n",
    "                \"threshold\": t,\n",
    "                \"direction\": \"neg\" if t < 0 else \"pos\",\n",
    "            })\n",
    "        )\n",
    "\n",
    "if rows:\n",
    "    all_alarms = pd.concat(rows, ignore_index=True)\n",
    "else:\n",
    "    all_alarms = pd.DataFrame(columns=[\"timestamp\", \"difference\", \"threshold\", \"direction\"])\n",
    "\n",
    "# all_alarms.to_csv(\"alarms_comparison.csv\", index=False)\n",
    "print(\"\\nSaved: alarms_comparison.csv\")\n",
    "print(all_alarms.head())\n"
   ]
  }
 ],
 "metadata": {
  "kernelspec": {
   "display_name": "modelling",
   "language": "python",
   "name": "python3"
  },
  "language_info": {
   "codemirror_mode": {
    "name": "ipython",
    "version": 3
   },
   "file_extension": ".py",
   "mimetype": "text/x-python",
   "name": "python",
   "nbconvert_exporter": "python",
   "pygments_lexer": "ipython3",
   "version": "3.12.3"
  }
 },
 "nbformat": 4,
 "nbformat_minor": 2
}
